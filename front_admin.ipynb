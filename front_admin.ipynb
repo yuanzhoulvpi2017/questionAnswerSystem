{
 "cells": [
  {
   "cell_type": "code",
   "execution_count": 1,
   "metadata": {
    "collapsed": true,
    "pycharm": {
     "name": "#%%\n"
    }
   },
   "outputs": [],
   "source": [
    "import numpy as np\n",
    "import pandas as pd\n",
    "import requests\n",
    "import json\n",
    "from typing import Optional, Union, List"
   ]
  },
  {
   "cell_type": "markdown",
   "source": [
    "### 创建知识条目\n",
    "1. create_new 函数用来创建知识库条目，需要三个参数。\n",
    "2. 参数1：question_title：条目的标题，需要传递字符串。\n",
    "3. 参数2：answer：条目返回的答案，需要是字符串格式。\n",
    "4. 参数3：simi_title：条目的相似问法，需要的是字符串列表或者，如果有多个相似字符串，可以这么写：['相识问法1', '相识问法2']，或者这么写：\"相似问法1###相似问法2\",这里使用三个#来做分割。"
   ],
   "metadata": {
    "collapsed": false,
    "pycharm": {
     "name": "#%% md\n"
    }
   }
  },
  {
   "cell_type": "code",
   "execution_count": 2,
   "metadata": {
    "collapsed": false,
    "pycharm": {
     "name": "#%%\n"
    }
   },
   "outputs": [],
   "source": [
    "def create_new(question_title: str, answer: str, simi_title: Union[str, List[str]]) -> None:\n",
    "    \"\"\"\n",
    "    创建新的条目\n",
    "    :param question_title:\n",
    "    :param answer:\n",
    "    :param simi_title:\n",
    "    :return:\n",
    "    \"\"\"\n",
    "    # process simi\n",
    "    # 创建新的问答条目\n",
    "    if isinstance(simi_title, List):\n",
    "        simi_title = '###'.join(simi_title)\n",
    "\n",
    "    try:\n",
    "\n",
    "        web = requests.get(url=\"http://0.0.0.0:8010/create_new\",\n",
    "                           params={'part_title': question_title, 'part_answer': answer, 'part_sim': simi_title})\n",
    "        if web.status_code == 200:\n",
    "            print('success create a new item')\n",
    "        else:\n",
    "            print('error for create a new item')\n",
    "    except Exception as e:\n",
    "        print('error for create a new item')\n"
   ]
  },
  {
   "cell_type": "markdown",
   "source": [
    "#### example"
   ],
   "metadata": {
    "collapsed": false,
    "pycharm": {
     "name": "#%% md\n"
    }
   }
  },
  {
   "cell_type": "code",
   "execution_count": 3,
   "metadata": {
    "pycharm": {
     "name": "#%%\n"
    }
   },
   "outputs": [
    {
     "name": "stdout",
     "output_type": "stream",
     "text": [
      "success create a new item\n"
     ]
    }
   ],
   "source": [
    "create_new(question_title=\"你为什么叫小埋\", answer=\"因为我的主人喜欢看《干物妹小埋》\",\n",
    "           simi_title=['为什么叫这个名字', '你这个名字来源'])\n"
   ]
  },
  {
   "cell_type": "code",
   "execution_count": 5,
   "metadata": {
    "pycharm": {
     "name": "#%%\n"
    }
   },
   "outputs": [
    {
     "name": "stdout",
     "output_type": "stream",
     "text": [
      "success create a new item\n"
     ]
    }
   ],
   "source": [
    "create_new(question_title=\"吃火锅么\", answer=\"啊，海底捞安排～\", simi_title=['一起吃饭吧', '吃饭呗', '吃火锅呗', '想约你吃饭'])"
   ]
  },
  {
   "cell_type": "code",
   "execution_count": 3,
   "metadata": {
    "pycharm": {
     "name": "#%%\n"
    }
   },
   "outputs": [
    {
     "name": "stdout",
     "output_type": "stream",
     "text": [
      "success create a new item\n"
     ]
    }
   ],
   "source": [
    "create_new(question_title=\"群主爱什么\",\n",
    "answer=\"爱代码爱统计爱他的读者们  ooooh(ps:群主还爱看美女)\", simi_title=['代码是群主的最爱','群主喜欢什么'])"
   ]
  },
  {
   "cell_type": "code",
   "execution_count": 5,
   "metadata": {
    "pycharm": {
     "name": "#%%\n"
    }
   },
   "outputs": [
    {
     "name": "stdout",
     "output_type": "stream",
     "text": [
      "success create a new item\n"
     ]
    }
   ],
   "source": [
    "create_new(question_title=\"如何关注公众号\",\n",
    "            answer=\"https://mp.weixin.qq.com/mp/homepage?__biz=MzU3MDkzNjk1OQ==&hid=2&sn=9c0cf18ee592dc7de9ae6e554cb5561a&scene=18#wechat_redirect\",\n",
    "            simi_title=['我怎么关注啊', '关注公众号','关注你', '关注作者', '想要了解我']\n",
    "           )\n"
   ]
  },
  {
   "cell_type": "code",
   "execution_count": 4,
   "metadata": {
    "pycharm": {
     "name": "#%%\n"
    }
   },
   "outputs": [
    {
     "name": "stdout",
     "output_type": "stream",
     "text": [
      "success create a new item\n"
     ]
    }
   ],
   "source": [
    "create_new(question_title=\"学python\",\n",
    "           answer=\"学python可以关注【world of statistics】公众号 https://mp.weixin.qq.com/mp/homepage?__biz=MzU3MDkzNjk1OQ==&hid=2&sn=9c0cf18ee592dc7de9ae6e554cb5561a&scene=18#wechat_redirect\",\n",
    "           simi_title=['如何学python', '了解python', '写python代码', '我想成为python大神'])\n"
   ]
  },
  {
   "cell_type": "code",
   "execution_count": 3,
   "metadata": {
    "pycharm": {
     "name": "#%%\n"
    }
   },
   "outputs": [
    {
     "name": "stdout",
     "output_type": "stream",
     "text": [
      "success create a new item\n"
     ]
    }
   ],
   "source": [
    "create_new(question_title=\"早上好\", answer=\"早上好哇，宝～\", simi_title=['清晨好', '又是早起的一天'])"
   ]
  },
  {
   "cell_type": "code",
   "execution_count": 11,
   "metadata": {
    "pycharm": {
     "name": "#%%\n"
    }
   },
   "outputs": [
    {
     "name": "stdout",
     "output_type": "stream",
     "text": [
      "success create a new item\n"
     ]
    }
   ],
   "source": [
    "create_new(question_title=\"天气\", answer=\"怎么了，和我聊天还关注天气，有我不就是晴天嘛～qwq～～\",\n",
    "           simi_title=['今天天气', '今天天气怎么样', '会下雨么', '太阳大不大'])\n"
   ]
  },
  {
   "cell_type": "code",
   "execution_count": 10,
   "metadata": {
    "pycharm": {
     "name": "#%%\n"
    }
   },
   "outputs": [
    {
     "name": "stdout",
     "output_type": "stream",
     "text": [
      "success create a new item\n"
     ]
    }
   ],
   "source": [
    "create_new(question_title=\"r画network\", answer=\"\"\"这里有几篇文章，可以查看：\n",
    "1. https://mp.weixin.qq.com/s/d3Ssi9EyFNH_VX1flOFyaw\n",
    "2. https://mp.weixin.qq.com/s/4mIVMNgHI1qTDnPOU9F7wQ\n",
    "3. https://mp.weixin.qq.com/s/2Zomto78LnZODfy0H5O4lw\"\"\", simi_title=['r如何画网络图', 'r语言画网络图', '想用R画网络'])"
   ]
  },
  {
   "cell_type": "code",
   "execution_count": 9,
   "metadata": {
    "pycharm": {
     "name": "#%%\n"
    }
   },
   "outputs": [
    {
     "name": "stdout",
     "output_type": "stream",
     "text": [
      "success create a new item\n"
     ]
    }
   ],
   "source": [
    "create_new(question_title=\"R如何画network\", answer=\"\"\"这里有几篇文章，可以查看：\n",
    "1. https://mp.weixin.qq.com/s/d3Ssi9EyFNH_VX1flOFyaw\n",
    "2. https://mp.weixin.qq.com/s/4mIVMNgHI1qTDnPOU9F7wQ\n",
    "3. https://mp.weixin.qq.com/s/2Zomto78LnZODfy0H5O4lw\"\"\", simi_title=['R语言如何画网络图', 'R语言的igraph绘图'])"
   ]
  },
  {
   "cell_type": "code",
   "execution_count": 8,
   "metadata": {
    "pycharm": {
     "name": "#%%\n"
    }
   },
   "outputs": [
    {
     "name": "stdout",
     "output_type": "stream",
     "text": [
      "success create a new item\n"
     ]
    }
   ],
   "source": [
    "create_new(question_title=\"重启一下\", answer=\"哒咩~\", simi_title=['你去死吧', '你去吃屎吧'])"
   ]
  },
  {
   "cell_type": "code",
   "execution_count": 7,
   "metadata": {
    "pycharm": {
     "name": "#%%\n"
    }
   },
   "outputs": [
    {
     "name": "stdout",
     "output_type": "stream",
     "text": [
      "success create a new item\n"
     ]
    }
   ],
   "source": [
    "create_new(question_title='你进步了', answer='谢谢宝贝的夸奖奥，我现在聪明程度全部依靠我的小主人对我的调教，后面会越来越聪明， 你一定要多多和我聊天奥～',\n",
    "simi_title=['变聪明了', '你现在怎么这么聪明'])"
   ]
  },
  {
   "cell_type": "code",
   "execution_count": 6,
   "metadata": {
    "pycharm": {
     "name": "#%%\n"
    }
   },
   "outputs": [
    {
     "name": "stdout",
     "output_type": "stream",
     "text": [
      "success create a new item\n"
     ]
    }
   ],
   "source": [
    "create_new(question_title=\"小埋不想正面回答我的问题\", answer=\"emmmm，我不是不想正面回答你的问题，而是因为我还不太聪明嘛qwq～\",\n",
    "simi_title=['你为甚么这么笨', '小埋你这么不想回答我', '小埋你怎么不理我'])"
   ]
  },
  {
   "cell_type": "code",
   "execution_count": 5,
   "metadata": {
    "pycharm": {
     "name": "#%%\n"
    }
   },
   "outputs": [
    {
     "name": "stdout",
     "output_type": "stream",
     "text": [
      "success create a new item\n"
     ]
    }
   ],
   "source": [
    "create_new(question_title=\"群主是谁\", answer=\"群主是world of statistics 作者啊,你怎么可以不知道啊\",\n",
    "simi_title=['群主是女的'])"
   ]
  },
  {
   "cell_type": "code",
   "execution_count": 4,
   "metadata": {
    "pycharm": {
     "name": "#%%\n"
    }
   },
   "outputs": [
    {
     "name": "stdout",
     "output_type": "stream",
     "text": [
      "success create a new item\n"
     ]
    }
   ],
   "source": [
    "create_new(question_title=\"几点了\", answer=\"emmm，让小埋我好好想一想，现在好像是13点了☺️\",\n",
    "           simi_title=[\"现在是几点\", \"现在的时间\"])\n"
   ]
  },
  {
   "cell_type": "code",
   "execution_count": 3,
   "metadata": {
    "collapsed": false,
    "pycharm": {
     "name": "#%%\n"
    }
   },
   "outputs": [
    {
     "name": "stdout",
     "output_type": "stream",
     "text": [
      "success create a new item\n"
     ]
    }
   ],
   "source": [
    "create_new(question_title='群主帅不帅',\n",
    "           answer='不知道群主帅不帅，只知道代码是群主的最爱！ooooh～～～～',\n",
    "           simi_title=['群主帅吗', '群主可爱么', '群主真的好秀啊'])\n"
   ]
  },
  {
   "cell_type": "code",
   "execution_count": 50,
   "metadata": {
    "collapsed": false,
    "pycharm": {
     "name": "#%%\n"
    }
   },
   "outputs": [
    {
     "name": "stdout",
     "output_type": "stream",
     "text": [
      "success create a new item\n"
     ]
    }
   ],
   "source": [
    "create_new(question_title='天气热不热', answer='今天天气还好啊', simi_title=['今天天气怎么样', '今天杭州天气怎么样'])"
   ]
  },
  {
   "cell_type": "code",
   "execution_count": 51,
   "metadata": {
    "collapsed": false,
    "pycharm": {
     "name": "#%%\n"
    }
   },
   "outputs": [
    {
     "name": "stdout",
     "output_type": "stream",
     "text": [
      "success create a new item\n"
     ]
    }
   ],
   "source": [
    "create_new(question_title='附近有什么好吃的', answer='附近有火锅001',\n",
    "           simi_title=['附近有火锅吃吗', '周围有什么好吃的啊'])"
   ]
  },
  {
   "cell_type": "code",
   "execution_count": 52,
   "metadata": {
    "collapsed": false,
    "pycharm": {
     "name": "#%%\n"
    }
   },
   "outputs": [
    {
     "name": "stdout",
     "output_type": "stream",
     "text": [
      "success create a new item\n"
     ]
    }
   ],
   "source": [
    "create_new(question_title='附近有什么好喝的', answer='附近有奶茶001',\n",
    "           simi_title=['附近有奶茶嘛', '周围有咖啡店嘛'])"
   ]
  },
  {
   "cell_type": "markdown",
   "source": [
    "### 删除条目\n",
    "1. delete_item 函数用来删除知识条目。比如有个问答，你希望他失效。那么就可以使用这个函数。\n",
    "2. 参数：rep_id。每一个知识条目里面的rep_id都是独一无二的。传递这个知识条目的rep_id就能删除"
   ],
   "metadata": {
    "collapsed": false,
    "pycharm": {
     "name": "#%% md\n"
    }
   }
  },
  {
   "cell_type": "code",
   "execution_count": 53,
   "metadata": {
    "collapsed": false,
    "pycharm": {
     "name": "#%%\n"
    }
   },
   "outputs": [
    {
     "name": "stdout",
     "output_type": "stream",
     "text": [
      "success to delete a new item\n"
     ]
    }
   ],
   "source": [
    "# fb74768e-300d-4864-9e25-16759310e656\n",
    "\n",
    "def delete_item(rep_id: str) -> None:\n",
    "    \"\"\"\n",
    "    delete the full item\n",
    "    删除整个知识条目\n",
    "    :param rep_id:\n",
    "    :return:\n",
    "    \"\"\"\n",
    "\n",
    "    try:\n",
    "\n",
    "        web = requests.get(url=\"http://0.0.0.0:8010/delete_title\",\n",
    "                           params={'delete_title': rep_id})\n",
    "        if web.status_code == 200:\n",
    "            print('success to delete a new item')\n",
    "        else:\n",
    "            print('error for delete a new item')\n",
    "    except Exception as e:\n",
    "        print('error for delete a new item')\n",
    "\n",
    "# example\n",
    "delete_item(rep_id=\"ba14aa89-8421-4e34-a730-17a91b26360e\")"
   ]
  },
  {
   "cell_type": "markdown",
   "source": [
    "### 删除相似问法\n",
    "1. 一个问题下，有很多相似问法，当不想要一个相似问法的时候，你只要传递相似问法的索引即可。\n",
    "2. delete_similar函数就是帮助你删除特定相似问法的工具。\n",
    "3. 参数: simi_index 可以传递一连串的数值。\n",
    "#### example：\n",
    "1. delete_similar(simi_index=13)：删除索引为13的相似问法.\n",
    "2. delete_similar(simi_index=[12, 20, 8])：删除索引为12、20、8的相似问法."
   ],
   "metadata": {
    "collapsed": false,
    "pycharm": {
     "name": "#%% md\n"
    }
   }
  },
  {
   "cell_type": "code",
   "execution_count": 54,
   "metadata": {
    "collapsed": false,
    "pycharm": {
     "name": "#%%\n"
    }
   },
   "outputs": [
    {
     "name": "stdout",
     "output_type": "stream",
     "text": [
      "success to delete a similar\n"
     ]
    }
   ],
   "source": [
    "def delete_similar(simi_index: Union[int, List[int]]) -> None:\n",
    "    \"\"\"\n",
    "    delete a similar\n",
    "    删除相似问法\n",
    "    :param simi_index:\n",
    "    :return:\n",
    "    \"\"\"\n",
    "\n",
    "    if isinstance(simi_index, List):\n",
    "        simi_index = '###'.join([str(i) for i in simi_index])\n",
    "    else:\n",
    "        simi_index = str(simi_index)\n",
    "\n",
    "    try:\n",
    "        web = requests.get(url=\"http://0.0.0.0:8010/delete_similar\",\n",
    "                           params={'delete_similar': simi_index})\n",
    "        if web.status_code == 200:\n",
    "            print('success to delete a similar')\n",
    "        else:\n",
    "            print('error for delete a similar')\n",
    "    except Exception as e:\n",
    "        print('error for delete a similar')\n",
    "\n",
    "# example\n",
    "delete_similar([4, 5])"
   ]
  },
  {
   "cell_type": "markdown",
   "source": [
    "### 更新答案\n",
    "1. 如果需要对某个知识条目的答案不满意，需要对其更新，那么就可以使用这个函数\n",
    "2. update_answer函数就可以帮助你更新特定知识条目的答案\n",
    "3. 参数：repid是需要更新条目的id，独一无二的。\n",
    "4. 参数：new_answer新的答案内容：需要是字符串类型的。\n",
    "\n",
    "#### example\n",
    "1. update_answer(repid=\"c4993c79-1a11-403b-9e5b-933c44c97b8e\",new_answer='附近有火锅002\") 的意思是把：条目c4993c79-1a11-403b-9e5b-933c44c97b8e的答案更换为\"附近有火锅002\"\n"
   ],
   "metadata": {
    "collapsed": false,
    "pycharm": {
     "name": "#%% md\n"
    }
   }
  },
  {
   "cell_type": "code",
   "execution_count": 55,
   "metadata": {
    "collapsed": false,
    "pycharm": {
     "name": "#%%\n"
    }
   },
   "outputs": [
    {
     "name": "stdout",
     "output_type": "stream",
     "text": [
      "success to update answer\n"
     ]
    }
   ],
   "source": [
    "def update_answer(repid: str, new_answer: str) -> None:\n",
    "    \"\"\"\n",
    "    update answer\n",
    "    更新答案\n",
    "    :param repid:\n",
    "    :param new_answer:\n",
    "    :return:\n",
    "    \"\"\"\n",
    "    if repid is None:\n",
    "        raise ValueError(\"repid can not be None\")\n",
    "    if new_answer is None:\n",
    "        raise ValueError(\"new  can not be None\")\n",
    "    try:\n",
    "        web = requests.get(url=\"http://0.0.0.0:8010/update_answer\",\n",
    "                           params={'update_repid': repid,\n",
    "                                   'new_answer': new_answer})\n",
    "        if web.status_code == 200:\n",
    "            print('success to update answer')\n",
    "        else:\n",
    "            print('error for update answer')\n",
    "    except Exception as e:\n",
    "        print('error for update answer')\n",
    "\n",
    "update_answer(repid=\"c4993c79-1a11-403b-9e5b-933c44c97b8e\",\n",
    "              new_answer='附近有火锅002')\n",
    "\n"
   ]
  },
  {
   "cell_type": "markdown",
   "source": [
    "### 增加相似问法\n",
    "1. 有时候，发现某个知识库条目里面的相似问法不够，那么就需要对这个条目下的相似问法添加。\n",
    "2. add_similar函数就可以帮你实现这个功能。\n",
    "3. 参数：repid：是那个知识条目的索引。独一无二的。\n",
    "4. 参数：new_similar：是需要添加的相识问法，可以是list或者str。比如['相似问法3'，'相似问法4']或者是'相似问法3###相似问法4'都是可以的。\n",
    "5. add_similar(repid=\"ea7758d0-71a1-4281-9780-ea7bad90e86c\",new_similar=[\"好饿\", \"真的而\"])：就是在`ea7758d0-71a1-4281-9780-ea7bad90e86c`下添加`[\"好饿\", \"真的而\"]`相似问法\n"
   ],
   "metadata": {
    "collapsed": false,
    "pycharm": {
     "name": "#%% md\n"
    }
   }
  },
  {
   "cell_type": "code",
   "execution_count": 56,
   "metadata": {
    "collapsed": false,
    "pycharm": {
     "name": "#%%\n"
    }
   },
   "outputs": [
    {
     "name": "stdout",
     "output_type": "stream",
     "text": [
      "success to add new similar\n"
     ]
    }
   ],
   "source": [
    "def add_similar(repid:str=None, new_similar:Union[str, List[str]]=None):\n",
    "\n",
    "    if repid is None:\n",
    "        raise ValueError(\"repid can not be None\")\n",
    "    if isinstance(new_similar, List):\n",
    "        new_similar = '###'.join([str(i) for i in new_similar])\n",
    "    else:\n",
    "        if isinstance(new_similar, str):\n",
    "            new_similar = str(new_similar)\n",
    "    try:\n",
    "        web = requests.get(url=\"http://0.0.0.0:8010/add_similar\",\n",
    "                           params={'rep_id': repid,\n",
    "                                   'simi_list': new_similar})\n",
    "        if web.status_code == 200:\n",
    "            print('success to add new similar')\n",
    "        else:\n",
    "            print('error for add new similar')\n",
    "    except Exception as e:\n",
    "        print('error for add new similar')\n",
    "\n",
    "add_similar(repid=\"ea7758d0-71a1-4281-9780-ea7bad90e86c\",\n",
    "            new_similar=[\"好饿\", \"真的而\"])\n"
   ]
  },
  {
   "cell_type": "code",
   "execution_count": null,
   "metadata": {
    "collapsed": false,
    "pycharm": {
     "name": "#%%\n"
    }
   },
   "outputs": [],
   "source": []
  }
 ],
 "metadata": {
  "kernelspec": {
   "display_name": "Python 3.9.12 ('secenv')",
   "language": "python",
   "name": "python3"
  },
  "language_info": {
   "codemirror_mode": {
    "name": "ipython",
    "version": 3
   },
   "file_extension": ".py",
   "mimetype": "text/x-python",
   "name": "python",
   "nbconvert_exporter": "python",
   "pygments_lexer": "ipython3",
   "version": "3.9.12"
  },
  "vscode": {
   "interpreter": {
    "hash": "dee3472940ebaa3e9b2e286a7f30b6ab66623682c7b4f9f3fc4650a9615d962c"
   }
  }
 },
 "nbformat": 4,
 "nbformat_minor": 0
}