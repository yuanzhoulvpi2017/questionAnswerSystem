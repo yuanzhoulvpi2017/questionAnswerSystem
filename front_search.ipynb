{
 "cells": [
  {
   "cell_type": "code",
   "execution_count": 1,
   "metadata": {
    "collapsed": true,
    "pycharm": {
     "name": "#%%\n"
    }
   },
   "outputs": [],
   "source": [
    "import numpy as np\n",
    "import pandas as pd\n",
    "import requests\n",
    "import json\n",
    "from typing import Optional, Union, List"
   ]
  },
  {
   "cell_type": "markdown",
   "source": [
    "### step1\n",
    "1. 用户提问，传递为q1\n",
    "2. 返回匹配结果：是一个数据框。rep_id代表的是知识条目的index。mrr是计算指标（越大的mrr，代表和用户的提问越相似）"
   ],
   "metadata": {
    "collapsed": false,
    "pycharm": {
     "name": "#%% md\n"
    }
   }
  },
  {
   "cell_type": "code",
   "execution_count": 2,
   "metadata": {
    "collapsed": false,
    "pycharm": {
     "name": "#%%\n"
    }
   },
   "outputs": [
    {
     "data": {
      "text/html": [
       "<div>\n",
       "<style scoped>\n",
       "    .dataframe tbody tr th:only-of-type {\n",
       "        vertical-align: middle;\n",
       "    }\n",
       "\n",
       "    .dataframe tbody tr th {\n",
       "        vertical-align: top;\n",
       "    }\n",
       "\n",
       "    .dataframe thead th {\n",
       "        text-align: right;\n",
       "    }\n",
       "</style>\n",
       "<table border=\"1\" class=\"dataframe\">\n",
       "  <thead>\n",
       "    <tr style=\"text-align: right;\">\n",
       "      <th></th>\n",
       "      <th>rep_id</th>\n",
       "      <th>mrr</th>\n",
       "    </tr>\n",
       "  </thead>\n",
       "  <tbody>\n",
       "    <tr>\n",
       "      <th>0</th>\n",
       "      <td>17dad48d-edb9-425a-b7f5-c65afd695a52</td>\n",
       "      <td>0.611111</td>\n",
       "    </tr>\n",
       "  </tbody>\n",
       "</table>\n",
       "</div>"
      ],
      "text/plain": [
       "                                 rep_id       mrr\n",
       "0  17dad48d-edb9-425a-b7f5-c65afd695a52  0.611111"
      ]
     },
     "execution_count": 2,
     "metadata": {},
     "output_type": "execute_result"
    }
   ],
   "source": [
    "\n",
    "def search_query(q1: str, topn: int = 2) -> pd.DataFrame:\n",
    "    # q1 = \"今天好热\"\n",
    "    web = requests.get(url=\"http://0.0.0.0:8010/search_topn\",\n",
    "                       params={'search_text': q1, 'topn': topn})\n",
    "    res = pd.DataFrame(json.loads(web.json()))\n",
    "    return res\n",
    "\n",
    "\n",
    "search_query(q1='你天气热不热')"
   ]
  },
  {
   "cell_type": "markdown",
   "source": [
    "### step2\n",
    "1. 把上面的表的第一行的rep_id拿到，使用rep_id获得查询到的内容（返回标题列表，和相似问法列表）"
   ],
   "metadata": {
    "collapsed": false,
    "pycharm": {
     "name": "#%% md\n"
    }
   }
  },
  {
   "cell_type": "code",
   "execution_count": 3,
   "metadata": {
    "collapsed": false,
    "pycharm": {
     "name": "#%%\n"
    }
   },
   "outputs": [],
   "source": [
    "rep_id = search_query(q1='附近吃的')['rep_id'].tolist()[0]\n",
    "\n",
    "\n",
    "def get_title_simi(rep_id) -> Union[pd.DataFrame, pd.DataFrame]:\n",
    "    web = requests.get(url=\"http://0.0.0.0:8010/select_by_repid\",\n",
    "                       params={'rep_id': rep_id})\n",
    "    # json.loads(web.json())\n",
    "    title_df = pd.DataFrame(json.loads(web.json().get('title')))\n",
    "    simi_df = pd.DataFrame(json.loads(web.json().get('sim')))\n",
    "    return title_df, simi_df\n",
    "\n",
    "\n",
    "td, sd = get_title_simi(rep_id)\n",
    "# print(td)\n",
    "# print(sd)"
   ]
  },
  {
   "cell_type": "code",
   "execution_count": 4,
   "metadata": {
    "collapsed": false,
    "pycharm": {
     "name": "#%%\n"
    }
   },
   "outputs": [
    {
     "data": {
      "text/html": [
       "<div>\n",
       "<style scoped>\n",
       "    .dataframe tbody tr th:only-of-type {\n",
       "        vertical-align: middle;\n",
       "    }\n",
       "\n",
       "    .dataframe tbody tr th {\n",
       "        vertical-align: top;\n",
       "    }\n",
       "\n",
       "    .dataframe thead th {\n",
       "        text-align: right;\n",
       "    }\n",
       "</style>\n",
       "<table border=\"1\" class=\"dataframe\">\n",
       "  <thead>\n",
       "    <tr style=\"text-align: right;\">\n",
       "      <th></th>\n",
       "      <th>title</th>\n",
       "      <th>answer</th>\n",
       "      <th>create_time</th>\n",
       "      <th>modify_time</th>\n",
       "      <th>rep_id</th>\n",
       "      <th>status_question</th>\n",
       "    </tr>\n",
       "  </thead>\n",
       "  <tbody>\n",
       "    <tr>\n",
       "      <th>0</th>\n",
       "      <td>你是谁</td>\n",
       "      <td>由公众号【world of statistics】作者创建</td>\n",
       "      <td>2022-08-19 19:59:01.103599</td>\n",
       "      <td>2022-08-19 19:59:01.104775</td>\n",
       "      <td>17dad48d-edb9-425a-b7f5-c65afd695a52</td>\n",
       "      <td>1</td>\n",
       "    </tr>\n",
       "  </tbody>\n",
       "</table>\n",
       "</div>"
      ],
      "text/plain": [
       "  title                         answer                 create_time  \\\n",
       "0   你是谁  由公众号【world of statistics】作者创建  2022-08-19 19:59:01.103599   \n",
       "\n",
       "                  modify_time                                rep_id  \\\n",
       "0  2022-08-19 19:59:01.104775  17dad48d-edb9-425a-b7f5-c65afd695a52   \n",
       "\n",
       "   status_question  \n",
       "0                1  "
      ]
     },
     "execution_count": 4,
     "metadata": {},
     "output_type": "execute_result"
    }
   ],
   "source": [
    "td\n",
    "# web.json()"
   ]
  },
  {
   "cell_type": "code",
   "execution_count": 5,
   "metadata": {
    "collapsed": false,
    "pycharm": {
     "name": "#%%\n"
    }
   },
   "outputs": [
    {
     "data": {
      "text/html": [
       "<div>\n",
       "<style scoped>\n",
       "    .dataframe tbody tr th:only-of-type {\n",
       "        vertical-align: middle;\n",
       "    }\n",
       "\n",
       "    .dataframe tbody tr th {\n",
       "        vertical-align: top;\n",
       "    }\n",
       "\n",
       "    .dataframe thead th {\n",
       "        text-align: right;\n",
       "    }\n",
       "</style>\n",
       "<table border=\"1\" class=\"dataframe\">\n",
       "  <thead>\n",
       "    <tr style=\"text-align: right;\">\n",
       "      <th></th>\n",
       "      <th>similarity</th>\n",
       "      <th>create_time</th>\n",
       "      <th>modify_time</th>\n",
       "      <th>rep_id</th>\n",
       "      <th>status_similar</th>\n",
       "      <th>sim_index</th>\n",
       "    </tr>\n",
       "  </thead>\n",
       "  <tbody>\n",
       "    <tr>\n",
       "      <th>0</th>\n",
       "      <td>你叫什么名字</td>\n",
       "      <td>2022-08-19 19:59:01.105241</td>\n",
       "      <td>2022-08-19 19:59:01.105361</td>\n",
       "      <td>17dad48d-edb9-425a-b7f5-c65afd695a52</td>\n",
       "      <td>1</td>\n",
       "      <td>0</td>\n",
       "    </tr>\n",
       "    <tr>\n",
       "      <th>1</th>\n",
       "      <td>你从哪里来的</td>\n",
       "      <td>2022-08-19 19:59:01.105241</td>\n",
       "      <td>2022-08-19 19:59:01.105361</td>\n",
       "      <td>17dad48d-edb9-425a-b7f5-c65afd695a52</td>\n",
       "      <td>1</td>\n",
       "      <td>1</td>\n",
       "    </tr>\n",
       "  </tbody>\n",
       "</table>\n",
       "</div>"
      ],
      "text/plain": [
       "  similarity                 create_time                 modify_time  \\\n",
       "0     你叫什么名字  2022-08-19 19:59:01.105241  2022-08-19 19:59:01.105361   \n",
       "1     你从哪里来的  2022-08-19 19:59:01.105241  2022-08-19 19:59:01.105361   \n",
       "\n",
       "                                 rep_id  status_similar  sim_index  \n",
       "0  17dad48d-edb9-425a-b7f5-c65afd695a52               1          0  \n",
       "1  17dad48d-edb9-425a-b7f5-c65afd695a52               1          1  "
      ]
     },
     "execution_count": 5,
     "metadata": {},
     "output_type": "execute_result"
    }
   ],
   "source": [
    "sd"
   ]
  },
  {
   "cell_type": "markdown",
   "metadata": {
    "collapsed": false,
    "pycharm": {
     "name": "#%% md\n"
    }
   },
   "source": []
  },
  {
   "cell_type": "markdown",
   "source": [
    "### step3\n",
    "1. 有时候，需要把上面两个步骤连接在一起，同时，直接给到查询的答案。\n",
    "2. 下面直接给到一个完整的流程\n"
   ],
   "metadata": {
    "collapsed": false,
    "pycharm": {
     "name": "#%% md\n"
    }
   }
  },
  {
   "cell_type": "code",
   "execution_count": 2,
   "metadata": {
    "collapsed": false,
    "pycharm": {
     "name": "#%%\n"
    }
   },
   "outputs": [
    {
     "ename": "JSONDecodeError",
     "evalue": "[Errno Expecting value] Internal Server Error: 0",
     "output_type": "error",
     "traceback": [
      "\u001B[0;31m---------------------------------------------------------------------------\u001B[0m",
      "\u001B[0;31mJSONDecodeError\u001B[0m                           Traceback (most recent call last)",
      "File \u001B[0;32m~/anaconda3/envs/secenv/lib/python3.9/site-packages/requests/models.py:910\u001B[0m, in \u001B[0;36mResponse.json\u001B[0;34m(self, **kwargs)\u001B[0m\n\u001B[1;32m    909\u001B[0m \u001B[39mtry\u001B[39;00m:\n\u001B[0;32m--> 910\u001B[0m     \u001B[39mreturn\u001B[39;00m complexjson\u001B[39m.\u001B[39;49mloads(\u001B[39mself\u001B[39;49m\u001B[39m.\u001B[39;49mtext, \u001B[39m*\u001B[39;49m\u001B[39m*\u001B[39;49mkwargs)\n\u001B[1;32m    911\u001B[0m \u001B[39mexcept\u001B[39;00m JSONDecodeError \u001B[39mas\u001B[39;00m e:\n\u001B[1;32m    912\u001B[0m     \u001B[39m# Catch JSON-related errors and raise as requests.JSONDecodeError\u001B[39;00m\n\u001B[1;32m    913\u001B[0m     \u001B[39m# This aliases json.JSONDecodeError and simplejson.JSONDecodeError\u001B[39;00m\n",
      "File \u001B[0;32m~/anaconda3/envs/secenv/lib/python3.9/json/__init__.py:346\u001B[0m, in \u001B[0;36mloads\u001B[0;34m(s, cls, object_hook, parse_float, parse_int, parse_constant, object_pairs_hook, **kw)\u001B[0m\n\u001B[1;32m    343\u001B[0m \u001B[39mif\u001B[39;00m (\u001B[39mcls\u001B[39m \u001B[39mis\u001B[39;00m \u001B[39mNone\u001B[39;00m \u001B[39mand\u001B[39;00m object_hook \u001B[39mis\u001B[39;00m \u001B[39mNone\u001B[39;00m \u001B[39mand\u001B[39;00m\n\u001B[1;32m    344\u001B[0m         parse_int \u001B[39mis\u001B[39;00m \u001B[39mNone\u001B[39;00m \u001B[39mand\u001B[39;00m parse_float \u001B[39mis\u001B[39;00m \u001B[39mNone\u001B[39;00m \u001B[39mand\u001B[39;00m\n\u001B[1;32m    345\u001B[0m         parse_constant \u001B[39mis\u001B[39;00m \u001B[39mNone\u001B[39;00m \u001B[39mand\u001B[39;00m object_pairs_hook \u001B[39mis\u001B[39;00m \u001B[39mNone\u001B[39;00m \u001B[39mand\u001B[39;00m \u001B[39mnot\u001B[39;00m kw):\n\u001B[0;32m--> 346\u001B[0m     \u001B[39mreturn\u001B[39;00m _default_decoder\u001B[39m.\u001B[39;49mdecode(s)\n\u001B[1;32m    347\u001B[0m \u001B[39mif\u001B[39;00m \u001B[39mcls\u001B[39m \u001B[39mis\u001B[39;00m \u001B[39mNone\u001B[39;00m:\n",
      "File \u001B[0;32m~/anaconda3/envs/secenv/lib/python3.9/json/decoder.py:337\u001B[0m, in \u001B[0;36mJSONDecoder.decode\u001B[0;34m(self, s, _w)\u001B[0m\n\u001B[1;32m    333\u001B[0m \u001B[39m\"\"\"Return the Python representation of ``s`` (a ``str`` instance\u001B[39;00m\n\u001B[1;32m    334\u001B[0m \u001B[39mcontaining a JSON document).\u001B[39;00m\n\u001B[1;32m    335\u001B[0m \n\u001B[1;32m    336\u001B[0m \u001B[39m\"\"\"\u001B[39;00m\n\u001B[0;32m--> 337\u001B[0m obj, end \u001B[39m=\u001B[39m \u001B[39mself\u001B[39;49m\u001B[39m.\u001B[39;49mraw_decode(s, idx\u001B[39m=\u001B[39;49m_w(s, \u001B[39m0\u001B[39;49m)\u001B[39m.\u001B[39;49mend())\n\u001B[1;32m    338\u001B[0m end \u001B[39m=\u001B[39m _w(s, end)\u001B[39m.\u001B[39mend()\n",
      "File \u001B[0;32m~/anaconda3/envs/secenv/lib/python3.9/json/decoder.py:355\u001B[0m, in \u001B[0;36mJSONDecoder.raw_decode\u001B[0;34m(self, s, idx)\u001B[0m\n\u001B[1;32m    354\u001B[0m \u001B[39mexcept\u001B[39;00m \u001B[39mStopIteration\u001B[39;00m \u001B[39mas\u001B[39;00m err:\n\u001B[0;32m--> 355\u001B[0m     \u001B[39mraise\u001B[39;00m JSONDecodeError(\u001B[39m\"\u001B[39m\u001B[39mExpecting value\u001B[39m\u001B[39m\"\u001B[39m, s, err\u001B[39m.\u001B[39mvalue) \u001B[39mfrom\u001B[39;00m \u001B[39mNone\u001B[39m\n\u001B[1;32m    356\u001B[0m \u001B[39mreturn\u001B[39;00m obj, end\n",
      "\u001B[0;31mJSONDecodeError\u001B[0m: Expecting value: line 1 column 1 (char 0)",
      "\nDuring handling of the above exception, another exception occurred:\n",
      "\u001B[0;31mJSONDecodeError\u001B[0m                           Traceback (most recent call last)",
      "\u001B[1;32m/home/yuanz/PycharmProjects/QAbot/front_search.ipynb Cell 11\u001B[0m in \u001B[0;36m<cell line: 29>\u001B[0;34m()\u001B[0m\n\u001B[1;32m     <a href='vscode-notebook-cell://ssh-remote%2B192.168.0.106/home/yuanz/PycharmProjects/QAbot/front_search.ipynb#X13sdnNjb2RlLXJlbW90ZQ%3D%3D?line=24'>25</a>\u001B[0m     res \u001B[39m=\u001B[39m td[\u001B[39m'\u001B[39m\u001B[39manswer\u001B[39m\u001B[39m'\u001B[39m]\u001B[39m.\u001B[39mtolist()[\u001B[39m0\u001B[39m]\n\u001B[1;32m     <a href='vscode-notebook-cell://ssh-remote%2B192.168.0.106/home/yuanz/PycharmProjects/QAbot/front_search.ipynb#X13sdnNjb2RlLXJlbW90ZQ%3D%3D?line=25'>26</a>\u001B[0m     \u001B[39mreturn\u001B[39;00m res\n\u001B[0;32m---> <a href='vscode-notebook-cell://ssh-remote%2B192.168.0.106/home/yuanz/PycharmProjects/QAbot/front_search.ipynb#X13sdnNjb2RlLXJlbW90ZQ%3D%3D?line=28'>29</a>\u001B[0m get_data(\u001B[39m'\u001B[39;49m\u001B[39mwho you are\u001B[39;49m\u001B[39m'\u001B[39;49m)\n",
      "\u001B[1;32m/home/yuanz/PycharmProjects/QAbot/front_search.ipynb Cell 11\u001B[0m in \u001B[0;36mget_data\u001B[0;34m(q1)\u001B[0m\n\u001B[1;32m     <a href='vscode-notebook-cell://ssh-remote%2B192.168.0.106/home/yuanz/PycharmProjects/QAbot/front_search.ipynb#X13sdnNjb2RlLXJlbW90ZQ%3D%3D?line=20'>21</a>\u001B[0m \u001B[39mdef\u001B[39;00m \u001B[39mget_data\u001B[39m(q1):\n\u001B[0;32m---> <a href='vscode-notebook-cell://ssh-remote%2B192.168.0.106/home/yuanz/PycharmProjects/QAbot/front_search.ipynb#X13sdnNjb2RlLXJlbW90ZQ%3D%3D?line=22'>23</a>\u001B[0m     rep_id \u001B[39m=\u001B[39m search_query(q1\u001B[39m=\u001B[39;49mq1)[\u001B[39m'\u001B[39m\u001B[39mrep_id\u001B[39m\u001B[39m'\u001B[39m]\u001B[39m.\u001B[39mtolist()[\u001B[39m0\u001B[39m]\n\u001B[1;32m     <a href='vscode-notebook-cell://ssh-remote%2B192.168.0.106/home/yuanz/PycharmProjects/QAbot/front_search.ipynb#X13sdnNjb2RlLXJlbW90ZQ%3D%3D?line=23'>24</a>\u001B[0m     td, sd \u001B[39m=\u001B[39m get_title_simi(rep_id)\n\u001B[1;32m     <a href='vscode-notebook-cell://ssh-remote%2B192.168.0.106/home/yuanz/PycharmProjects/QAbot/front_search.ipynb#X13sdnNjb2RlLXJlbW90ZQ%3D%3D?line=24'>25</a>\u001B[0m     res \u001B[39m=\u001B[39m td[\u001B[39m'\u001B[39m\u001B[39manswer\u001B[39m\u001B[39m'\u001B[39m]\u001B[39m.\u001B[39mtolist()[\u001B[39m0\u001B[39m]\n",
      "\u001B[1;32m/home/yuanz/PycharmProjects/QAbot/front_search.ipynb Cell 11\u001B[0m in \u001B[0;36msearch_query\u001B[0;34m(q1, topn)\u001B[0m\n\u001B[1;32m      <a href='vscode-notebook-cell://ssh-remote%2B192.168.0.106/home/yuanz/PycharmProjects/QAbot/front_search.ipynb#X13sdnNjb2RlLXJlbW90ZQ%3D%3D?line=5'>6</a>\u001B[0m \u001B[39mdef\u001B[39;00m \u001B[39msearch_query\u001B[39m(q1:\u001B[39mstr\u001B[39m, topn:\u001B[39mint\u001B[39m\u001B[39m=\u001B[39m\u001B[39m2\u001B[39m) \u001B[39m-\u001B[39m\u001B[39m>\u001B[39m pd\u001B[39m.\u001B[39mDataFrame:\n\u001B[1;32m      <a href='vscode-notebook-cell://ssh-remote%2B192.168.0.106/home/yuanz/PycharmProjects/QAbot/front_search.ipynb#X13sdnNjb2RlLXJlbW90ZQ%3D%3D?line=6'>7</a>\u001B[0m     \u001B[39m# q1 = \"今天好热\"\u001B[39;00m\n\u001B[1;32m      <a href='vscode-notebook-cell://ssh-remote%2B192.168.0.106/home/yuanz/PycharmProjects/QAbot/front_search.ipynb#X13sdnNjb2RlLXJlbW90ZQ%3D%3D?line=7'>8</a>\u001B[0m     web \u001B[39m=\u001B[39m requests\u001B[39m.\u001B[39mget(url\u001B[39m=\u001B[39m\u001B[39m\"\u001B[39m\u001B[39mhttp://0.0.0.0:8010/search_topn\u001B[39m\u001B[39m\"\u001B[39m,\n\u001B[1;32m      <a href='vscode-notebook-cell://ssh-remote%2B192.168.0.106/home/yuanz/PycharmProjects/QAbot/front_search.ipynb#X13sdnNjb2RlLXJlbW90ZQ%3D%3D?line=8'>9</a>\u001B[0m                        params\u001B[39m=\u001B[39m{\u001B[39m'\u001B[39m\u001B[39msearch_text\u001B[39m\u001B[39m'\u001B[39m: q1, \u001B[39m'\u001B[39m\u001B[39mtopn\u001B[39m\u001B[39m'\u001B[39m: topn})\n\u001B[0;32m---> <a href='vscode-notebook-cell://ssh-remote%2B192.168.0.106/home/yuanz/PycharmProjects/QAbot/front_search.ipynb#X13sdnNjb2RlLXJlbW90ZQ%3D%3D?line=9'>10</a>\u001B[0m     res \u001B[39m=\u001B[39m pd\u001B[39m.\u001B[39mDataFrame(json\u001B[39m.\u001B[39mloads(web\u001B[39m.\u001B[39;49mjson()))\n\u001B[1;32m     <a href='vscode-notebook-cell://ssh-remote%2B192.168.0.106/home/yuanz/PycharmProjects/QAbot/front_search.ipynb#X13sdnNjb2RlLXJlbW90ZQ%3D%3D?line=10'>11</a>\u001B[0m     \u001B[39mreturn\u001B[39;00m res\n",
      "File \u001B[0;32m~/anaconda3/envs/secenv/lib/python3.9/site-packages/requests/models.py:917\u001B[0m, in \u001B[0;36mResponse.json\u001B[0;34m(self, **kwargs)\u001B[0m\n\u001B[1;32m    915\u001B[0m     \u001B[39mraise\u001B[39;00m RequestsJSONDecodeError(e\u001B[39m.\u001B[39mmessage)\n\u001B[1;32m    916\u001B[0m \u001B[39melse\u001B[39;00m:\n\u001B[0;32m--> 917\u001B[0m     \u001B[39mraise\u001B[39;00m RequestsJSONDecodeError(e\u001B[39m.\u001B[39mmsg, e\u001B[39m.\u001B[39mdoc, e\u001B[39m.\u001B[39mpos)\n",
      "\u001B[0;31mJSONDecodeError\u001B[0m: [Errno Expecting value] Internal Server Error: 0"
     ]
    }
   ],
   "source": [
    "import numpy as np\n",
    "import pandas as pd\n",
    "import requests\n",
    "import json\n",
    "from typing import Optional, Union, List\n",
    "\n",
    "\n",
    "# step1\n",
    "def search_query(q1: str, topn: int = 2) -> pd.DataFrame:\n",
    "    # q1 = \"今天好热\"\n",
    "    web = requests.get(url=\"http://0.0.0.0:8010/search_topn\",\n",
    "                       params={'search_text': q1, 'topn': topn})\n",
    "    res = pd.DataFrame(json.loads(web.json()))\n",
    "    return res\n",
    "\n",
    "\n",
    "# step2\n",
    "def get_title_simi(rep_id) -> Union[pd.DataFrame, pd.DataFrame]:\n",
    "    web = requests.get(url=\"http://0.0.0.0:8010/select_by_repid\",\n",
    "                       params={'rep_id': rep_id})\n",
    "    # json.loads(web.json())\n",
    "    title_df = pd.DataFrame(json.loads(web.json().get('title')))\n",
    "    simi_df = pd.DataFrame(json.loads(web.json().get('sim')))\n",
    "    return title_df, simi_df\n",
    "\n",
    "\n",
    "# step3\n",
    "def get_data(q1):\n",
    "    rep_id = search_query(q1=q1)['rep_id'].tolist()[0]\n",
    "    td, sd = get_title_simi(rep_id)\n",
    "    res = td['answer'].tolist()[0]\n",
    "    return res\n",
    "\n",
    "# example\n",
    "get_data('who you are')"
   ]
  },
  {
   "cell_type": "code",
   "execution_count": null,
   "metadata": {
    "collapsed": false,
    "pycharm": {
     "name": "#%%\n"
    }
   },
   "outputs": [],
   "source": []
  }
 ],
 "metadata": {
  "kernelspec": {
   "display_name": "Python 3.9.12 ('secenv')",
   "language": "python",
   "name": "python3"
  },
  "language_info": {
   "codemirror_mode": {
    "name": "ipython",
    "version": 3
   },
   "file_extension": ".py",
   "mimetype": "text/x-python",
   "name": "python",
   "nbconvert_exporter": "python",
   "pygments_lexer": "ipython3",
   "version": "3.9.12"
  },
  "vscode": {
   "interpreter": {
    "hash": "dee3472940ebaa3e9b2e286a7f30b6ab66623682c7b4f9f3fc4650a9615d962c"
   }
  }
 },
 "nbformat": 4,
 "nbformat_minor": 0
}